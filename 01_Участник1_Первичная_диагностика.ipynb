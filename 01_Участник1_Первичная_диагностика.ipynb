{
 "cells": [
  {
   "metadata": {},
   "cell_type": "markdown",
   "source": [
    "# Лабораторная 1 — Импорт и первичная диагностика  \n",
    "Участник 1 (Загрузка и диагностика данных)\n",
    "\n",
    "Цель блока:  \n",
    "1. Загрузить датасет.  \n",
    "2. Изучить структуру (размерность, типы, базовые статистики).  \n",
    "3. Найти явные и скрытые пропуски (нули в физиологических признаках).  \n",
    "4. Проверить дубликаты.  \n",
    "5. Сформировать промежуточный «stage 1» датасет для дальнейшего EDA.  \n",
    "\n",
    "Датасет: diabetes.csv (вариант Pima Indians Diabetes).  \n",
    "Целевая переменная: `Outcome` (0 — нет диабета, 1 — диабет).  "
   ],
   "id": "e34430ec64424e4b"
  },
  {
   "metadata": {},
   "cell_type": "markdown",
   "source": "",
   "id": "23d435638e0c2b86"
  },
  {
   "metadata": {},
   "cell_type": "markdown",
   "source": [
    "## Data Dictionary (черновой)\n",
    "\n",
    "| Признак | Описание | Допустим ли 0 | Комментарий |\n",
    "|---------|----------|---------------|-------------|\n",
    "| Pregnancies | Количество беременностей | Да | 0 = не беременна |\n",
    "| Glucose | Концентрация глюкозы (mg/dL) | Нет | 0 трактуем как пропуск |\n",
    "| BloodPressure | Диастолическое давление (mm Hg) | Нет | 0 → пропуск |\n",
    "| SkinThickness | Толщина кожной складки (мм) | Нет | 0 → пропуск |\n",
    "| Insulin | Инсулин (μU/mL) | Нет | 0 → пропуск |\n",
    "| BMI | Индекс массы тела | Нет | 0 → пропуск |\n",
    "| DiabetesPedigreeFunction | Наследственный фактор | Да | 0 возможен (низкий риск) |\n",
    "| Age | Возраст (годы) | Нет (и не встречается) | |\n",
    "| Outcome | Целевой признак (0/1) | Да | Бинарный класс |"
   ],
   "id": "90574e7d4f38d808"
  },
  {
   "metadata": {
    "ExecuteTime": {
     "end_time": "2025-10-01T08:00:08.961349Z",
     "start_time": "2025-10-01T08:00:08.956027Z"
    }
   },
   "cell_type": "code",
   "source": [
    "import pandas as pd\n",
    "import numpy as np\n",
    "import seaborn as sns\n",
    "import matplotlib.pyplot as plt\n",
    "\n",
    "pd.set_option('display.max_columns', None)\n",
    "pd.set_option('display.float_format', lambda v: f\"{v:0.3f}\")"
   ],
   "id": "f038a3dd8e947f12",
   "outputs": [],
   "execution_count": 15
  },
  {
   "metadata": {
    "ExecuteTime": {
     "end_time": "2025-10-01T08:00:47.593183Z",
     "start_time": "2025-10-01T08:00:47.574997Z"
    }
   },
   "cell_type": "code",
   "source": [
    "FILE_PATH = \"data/diabetes.csv\"\n",
    "\n",
    "df = pd.read_csv(FILE_PATH)\n",
    "df_raw = df.copy()  # резервная копия исходника\n",
    "\n",
    "print(\"Файл загружен.\")\n",
    "print(\"Размер (rows, cols):\", df.shape)\n",
    "df.head()"
   ],
   "id": "6b0379e250593fa1",
   "outputs": [
    {
     "name": "stdout",
     "output_type": "stream",
     "text": [
      "Файл загружен.\n",
      "Размер (rows, cols): (768, 9)\n"
     ]
    },
    {
     "data": {
      "text/plain": [
       "   Pregnancies  Glucose  BloodPressure  SkinThickness  Insulin    BMI  \\\n",
       "0            6      148             72             35        0 33.600   \n",
       "1            1       85             66             29        0 26.600   \n",
       "2            8      183             64              0        0 23.300   \n",
       "3            1       89             66             23       94 28.100   \n",
       "4            0      137             40             35      168 43.100   \n",
       "\n",
       "   DiabetesPedigreeFunction  Age  Outcome  \n",
       "0                     0.627   50        1  \n",
       "1                     0.351   31        0  \n",
       "2                     0.672   32        1  \n",
       "3                     0.167   21        0  \n",
       "4                     2.288   33        1  "
      ],
      "text/html": [
       "<div>\n",
       "<style scoped>\n",
       "    .dataframe tbody tr th:only-of-type {\n",
       "        vertical-align: middle;\n",
       "    }\n",
       "\n",
       "    .dataframe tbody tr th {\n",
       "        vertical-align: top;\n",
       "    }\n",
       "\n",
       "    .dataframe thead th {\n",
       "        text-align: right;\n",
       "    }\n",
       "</style>\n",
       "<table border=\"1\" class=\"dataframe\">\n",
       "  <thead>\n",
       "    <tr style=\"text-align: right;\">\n",
       "      <th></th>\n",
       "      <th>Pregnancies</th>\n",
       "      <th>Glucose</th>\n",
       "      <th>BloodPressure</th>\n",
       "      <th>SkinThickness</th>\n",
       "      <th>Insulin</th>\n",
       "      <th>BMI</th>\n",
       "      <th>DiabetesPedigreeFunction</th>\n",
       "      <th>Age</th>\n",
       "      <th>Outcome</th>\n",
       "    </tr>\n",
       "  </thead>\n",
       "  <tbody>\n",
       "    <tr>\n",
       "      <th>0</th>\n",
       "      <td>6</td>\n",
       "      <td>148</td>\n",
       "      <td>72</td>\n",
       "      <td>35</td>\n",
       "      <td>0</td>\n",
       "      <td>33.600</td>\n",
       "      <td>0.627</td>\n",
       "      <td>50</td>\n",
       "      <td>1</td>\n",
       "    </tr>\n",
       "    <tr>\n",
       "      <th>1</th>\n",
       "      <td>1</td>\n",
       "      <td>85</td>\n",
       "      <td>66</td>\n",
       "      <td>29</td>\n",
       "      <td>0</td>\n",
       "      <td>26.600</td>\n",
       "      <td>0.351</td>\n",
       "      <td>31</td>\n",
       "      <td>0</td>\n",
       "    </tr>\n",
       "    <tr>\n",
       "      <th>2</th>\n",
       "      <td>8</td>\n",
       "      <td>183</td>\n",
       "      <td>64</td>\n",
       "      <td>0</td>\n",
       "      <td>0</td>\n",
       "      <td>23.300</td>\n",
       "      <td>0.672</td>\n",
       "      <td>32</td>\n",
       "      <td>1</td>\n",
       "    </tr>\n",
       "    <tr>\n",
       "      <th>3</th>\n",
       "      <td>1</td>\n",
       "      <td>89</td>\n",
       "      <td>66</td>\n",
       "      <td>23</td>\n",
       "      <td>94</td>\n",
       "      <td>28.100</td>\n",
       "      <td>0.167</td>\n",
       "      <td>21</td>\n",
       "      <td>0</td>\n",
       "    </tr>\n",
       "    <tr>\n",
       "      <th>4</th>\n",
       "      <td>0</td>\n",
       "      <td>137</td>\n",
       "      <td>40</td>\n",
       "      <td>35</td>\n",
       "      <td>168</td>\n",
       "      <td>43.100</td>\n",
       "      <td>2.288</td>\n",
       "      <td>33</td>\n",
       "      <td>1</td>\n",
       "    </tr>\n",
       "  </tbody>\n",
       "</table>\n",
       "</div>"
      ]
     },
     "execution_count": 17,
     "metadata": {},
     "output_type": "execute_result"
    }
   ],
   "execution_count": 17
  },
  {
   "metadata": {
    "ExecuteTime": {
     "end_time": "2025-10-01T08:01:04.441272Z",
     "start_time": "2025-10-01T08:01:04.403400Z"
    }
   },
   "cell_type": "code",
   "source": [
    "display(df.tail(3))\n",
    "print(\"\\nИнформация о типах и пропусках (явных):\")\n",
    "df.info()"
   ],
   "id": "716be27d5ab8f1c6",
   "outputs": [
    {
     "data": {
      "text/plain": [
       "     Pregnancies  Glucose  BloodPressure  SkinThickness  Insulin    BMI  \\\n",
       "765            5      121             72             23      112 26.200   \n",
       "766            1      126             60              0        0 30.100   \n",
       "767            1       93             70             31        0 30.400   \n",
       "\n",
       "     DiabetesPedigreeFunction  Age  Outcome  \n",
       "765                     0.245   30        0  \n",
       "766                     0.349   47        1  \n",
       "767                     0.315   23        0  "
      ],
      "text/html": [
       "<div>\n",
       "<style scoped>\n",
       "    .dataframe tbody tr th:only-of-type {\n",
       "        vertical-align: middle;\n",
       "    }\n",
       "\n",
       "    .dataframe tbody tr th {\n",
       "        vertical-align: top;\n",
       "    }\n",
       "\n",
       "    .dataframe thead th {\n",
       "        text-align: right;\n",
       "    }\n",
       "</style>\n",
       "<table border=\"1\" class=\"dataframe\">\n",
       "  <thead>\n",
       "    <tr style=\"text-align: right;\">\n",
       "      <th></th>\n",
       "      <th>Pregnancies</th>\n",
       "      <th>Glucose</th>\n",
       "      <th>BloodPressure</th>\n",
       "      <th>SkinThickness</th>\n",
       "      <th>Insulin</th>\n",
       "      <th>BMI</th>\n",
       "      <th>DiabetesPedigreeFunction</th>\n",
       "      <th>Age</th>\n",
       "      <th>Outcome</th>\n",
       "    </tr>\n",
       "  </thead>\n",
       "  <tbody>\n",
       "    <tr>\n",
       "      <th>765</th>\n",
       "      <td>5</td>\n",
       "      <td>121</td>\n",
       "      <td>72</td>\n",
       "      <td>23</td>\n",
       "      <td>112</td>\n",
       "      <td>26.200</td>\n",
       "      <td>0.245</td>\n",
       "      <td>30</td>\n",
       "      <td>0</td>\n",
       "    </tr>\n",
       "    <tr>\n",
       "      <th>766</th>\n",
       "      <td>1</td>\n",
       "      <td>126</td>\n",
       "      <td>60</td>\n",
       "      <td>0</td>\n",
       "      <td>0</td>\n",
       "      <td>30.100</td>\n",
       "      <td>0.349</td>\n",
       "      <td>47</td>\n",
       "      <td>1</td>\n",
       "    </tr>\n",
       "    <tr>\n",
       "      <th>767</th>\n",
       "      <td>1</td>\n",
       "      <td>93</td>\n",
       "      <td>70</td>\n",
       "      <td>31</td>\n",
       "      <td>0</td>\n",
       "      <td>30.400</td>\n",
       "      <td>0.315</td>\n",
       "      <td>23</td>\n",
       "      <td>0</td>\n",
       "    </tr>\n",
       "  </tbody>\n",
       "</table>\n",
       "</div>"
      ]
     },
     "metadata": {},
     "output_type": "display_data"
    },
    {
     "name": "stdout",
     "output_type": "stream",
     "text": [
      "\n",
      "Информация о типах и пропусках (явных):\n",
      "<class 'pandas.core.frame.DataFrame'>\n",
      "RangeIndex: 768 entries, 0 to 767\n",
      "Data columns (total 9 columns):\n",
      " #   Column                    Non-Null Count  Dtype  \n",
      "---  ------                    --------------  -----  \n",
      " 0   Pregnancies               768 non-null    int64  \n",
      " 1   Glucose                   768 non-null    int64  \n",
      " 2   BloodPressure             768 non-null    int64  \n",
      " 3   SkinThickness             768 non-null    int64  \n",
      " 4   Insulin                   768 non-null    int64  \n",
      " 5   BMI                       768 non-null    float64\n",
      " 6   DiabetesPedigreeFunction  768 non-null    float64\n",
      " 7   Age                       768 non-null    int64  \n",
      " 8   Outcome                   768 non-null    int64  \n",
      "dtypes: float64(2), int64(7)\n",
      "memory usage: 54.1 KB\n"
     ]
    }
   ],
   "execution_count": 18
  },
  {
   "metadata": {
    "ExecuteTime": {
     "end_time": "2025-10-01T08:01:27.601375Z",
     "start_time": "2025-10-01T08:01:27.576785Z"
    }
   },
   "cell_type": "code",
   "source": "display(df.describe().T)",
   "id": "426eafcbd3b4c61f",
   "outputs": [
    {
     "data": {
      "text/plain": [
       "                           count    mean     std    min    25%     50%  \\\n",
       "Pregnancies              768.000   3.845   3.370  0.000  1.000   3.000   \n",
       "Glucose                  768.000 120.895  31.973  0.000 99.000 117.000   \n",
       "BloodPressure            768.000  69.105  19.356  0.000 62.000  72.000   \n",
       "SkinThickness            768.000  20.536  15.952  0.000  0.000  23.000   \n",
       "Insulin                  768.000  79.799 115.244  0.000  0.000  30.500   \n",
       "BMI                      768.000  31.993   7.884  0.000 27.300  32.000   \n",
       "DiabetesPedigreeFunction 768.000   0.472   0.331  0.078  0.244   0.372   \n",
       "Age                      768.000  33.241  11.760 21.000 24.000  29.000   \n",
       "Outcome                  768.000   0.349   0.477  0.000  0.000   0.000   \n",
       "\n",
       "                             75%     max  \n",
       "Pregnancies                6.000  17.000  \n",
       "Glucose                  140.250 199.000  \n",
       "BloodPressure             80.000 122.000  \n",
       "SkinThickness             32.000  99.000  \n",
       "Insulin                  127.250 846.000  \n",
       "BMI                       36.600  67.100  \n",
       "DiabetesPedigreeFunction   0.626   2.420  \n",
       "Age                       41.000  81.000  \n",
       "Outcome                    1.000   1.000  "
      ],
      "text/html": [
       "<div>\n",
       "<style scoped>\n",
       "    .dataframe tbody tr th:only-of-type {\n",
       "        vertical-align: middle;\n",
       "    }\n",
       "\n",
       "    .dataframe tbody tr th {\n",
       "        vertical-align: top;\n",
       "    }\n",
       "\n",
       "    .dataframe thead th {\n",
       "        text-align: right;\n",
       "    }\n",
       "</style>\n",
       "<table border=\"1\" class=\"dataframe\">\n",
       "  <thead>\n",
       "    <tr style=\"text-align: right;\">\n",
       "      <th></th>\n",
       "      <th>count</th>\n",
       "      <th>mean</th>\n",
       "      <th>std</th>\n",
       "      <th>min</th>\n",
       "      <th>25%</th>\n",
       "      <th>50%</th>\n",
       "      <th>75%</th>\n",
       "      <th>max</th>\n",
       "    </tr>\n",
       "  </thead>\n",
       "  <tbody>\n",
       "    <tr>\n",
       "      <th>Pregnancies</th>\n",
       "      <td>768.000</td>\n",
       "      <td>3.845</td>\n",
       "      <td>3.370</td>\n",
       "      <td>0.000</td>\n",
       "      <td>1.000</td>\n",
       "      <td>3.000</td>\n",
       "      <td>6.000</td>\n",
       "      <td>17.000</td>\n",
       "    </tr>\n",
       "    <tr>\n",
       "      <th>Glucose</th>\n",
       "      <td>768.000</td>\n",
       "      <td>120.895</td>\n",
       "      <td>31.973</td>\n",
       "      <td>0.000</td>\n",
       "      <td>99.000</td>\n",
       "      <td>117.000</td>\n",
       "      <td>140.250</td>\n",
       "      <td>199.000</td>\n",
       "    </tr>\n",
       "    <tr>\n",
       "      <th>BloodPressure</th>\n",
       "      <td>768.000</td>\n",
       "      <td>69.105</td>\n",
       "      <td>19.356</td>\n",
       "      <td>0.000</td>\n",
       "      <td>62.000</td>\n",
       "      <td>72.000</td>\n",
       "      <td>80.000</td>\n",
       "      <td>122.000</td>\n",
       "    </tr>\n",
       "    <tr>\n",
       "      <th>SkinThickness</th>\n",
       "      <td>768.000</td>\n",
       "      <td>20.536</td>\n",
       "      <td>15.952</td>\n",
       "      <td>0.000</td>\n",
       "      <td>0.000</td>\n",
       "      <td>23.000</td>\n",
       "      <td>32.000</td>\n",
       "      <td>99.000</td>\n",
       "    </tr>\n",
       "    <tr>\n",
       "      <th>Insulin</th>\n",
       "      <td>768.000</td>\n",
       "      <td>79.799</td>\n",
       "      <td>115.244</td>\n",
       "      <td>0.000</td>\n",
       "      <td>0.000</td>\n",
       "      <td>30.500</td>\n",
       "      <td>127.250</td>\n",
       "      <td>846.000</td>\n",
       "    </tr>\n",
       "    <tr>\n",
       "      <th>BMI</th>\n",
       "      <td>768.000</td>\n",
       "      <td>31.993</td>\n",
       "      <td>7.884</td>\n",
       "      <td>0.000</td>\n",
       "      <td>27.300</td>\n",
       "      <td>32.000</td>\n",
       "      <td>36.600</td>\n",
       "      <td>67.100</td>\n",
       "    </tr>\n",
       "    <tr>\n",
       "      <th>DiabetesPedigreeFunction</th>\n",
       "      <td>768.000</td>\n",
       "      <td>0.472</td>\n",
       "      <td>0.331</td>\n",
       "      <td>0.078</td>\n",
       "      <td>0.244</td>\n",
       "      <td>0.372</td>\n",
       "      <td>0.626</td>\n",
       "      <td>2.420</td>\n",
       "    </tr>\n",
       "    <tr>\n",
       "      <th>Age</th>\n",
       "      <td>768.000</td>\n",
       "      <td>33.241</td>\n",
       "      <td>11.760</td>\n",
       "      <td>21.000</td>\n",
       "      <td>24.000</td>\n",
       "      <td>29.000</td>\n",
       "      <td>41.000</td>\n",
       "      <td>81.000</td>\n",
       "    </tr>\n",
       "    <tr>\n",
       "      <th>Outcome</th>\n",
       "      <td>768.000</td>\n",
       "      <td>0.349</td>\n",
       "      <td>0.477</td>\n",
       "      <td>0.000</td>\n",
       "      <td>0.000</td>\n",
       "      <td>0.000</td>\n",
       "      <td>1.000</td>\n",
       "      <td>1.000</td>\n",
       "    </tr>\n",
       "  </tbody>\n",
       "</table>\n",
       "</div>"
      ]
     },
     "metadata": {},
     "output_type": "display_data"
    }
   ],
   "execution_count": 19
  },
  {
   "metadata": {},
   "cell_type": "markdown",
   "source": [
    "### Комментарий к типам\n",
    "Все признаки числовые (`int` / `float`).  \n",
    "`Outcome` пока оставляем как `int` (бинарный); приводить к `category` не обязательно на этом этапе.  \n",
    "Явных NaN ещё нет — но в некоторых колонках будут «скрытые» пропуски (нули там, где значения физически не могут быть нулём)."
   ],
   "id": "440f8dfd3ee7ca13"
  },
  {
   "metadata": {
    "ExecuteTime": {
     "end_time": "2025-10-01T08:02:04.549645Z",
     "start_time": "2025-10-01T08:02:04.538582Z"
    }
   },
   "cell_type": "code",
   "source": [
    "na_counts = df.isna().sum()\n",
    "print(\"Явные пропуски (до обработки скрытых):\")\n",
    "na_counts"
   ],
   "id": "a29e848ede45a4be",
   "outputs": [
    {
     "name": "stdout",
     "output_type": "stream",
     "text": [
      "Явные пропуски (до обработки скрытых):\n"
     ]
    },
    {
     "data": {
      "text/plain": [
       "Pregnancies                 0\n",
       "Glucose                     0\n",
       "BloodPressure               0\n",
       "SkinThickness               0\n",
       "Insulin                     0\n",
       "BMI                         0\n",
       "DiabetesPedigreeFunction    0\n",
       "Age                         0\n",
       "Outcome                     0\n",
       "dtype: int64"
      ]
     },
     "execution_count": 20,
     "metadata": {},
     "output_type": "execute_result"
    }
   ],
   "execution_count": 20
  },
  {
   "metadata": {
    "ExecuteTime": {
     "end_time": "2025-10-01T08:02:36.144175Z",
     "start_time": "2025-10-01T08:02:36.132451Z"
    }
   },
   "cell_type": "code",
   "source": [
    "zero_counts = (df == 0).sum()\n",
    "zero_pct = (zero_counts / len(df) * 100).round(2)\n",
    "zero_summary = pd.DataFrame({\"zero_count\": zero_counts, \"zero_pct\": zero_pct})\n",
    "zero_summary.sort_values(\"zero_pct\", ascending=False)"
   ],
   "id": "faf6fa086c9fb532",
   "outputs": [
    {
     "data": {
      "text/plain": [
       "                          zero_count  zero_pct\n",
       "Outcome                          500    65.100\n",
       "Insulin                          374    48.700\n",
       "SkinThickness                    227    29.560\n",
       "Pregnancies                      111    14.450\n",
       "BloodPressure                     35     4.560\n",
       "BMI                               11     1.430\n",
       "Glucose                            5     0.650\n",
       "DiabetesPedigreeFunction           0     0.000\n",
       "Age                                0     0.000"
      ],
      "text/html": [
       "<div>\n",
       "<style scoped>\n",
       "    .dataframe tbody tr th:only-of-type {\n",
       "        vertical-align: middle;\n",
       "    }\n",
       "\n",
       "    .dataframe tbody tr th {\n",
       "        vertical-align: top;\n",
       "    }\n",
       "\n",
       "    .dataframe thead th {\n",
       "        text-align: right;\n",
       "    }\n",
       "</style>\n",
       "<table border=\"1\" class=\"dataframe\">\n",
       "  <thead>\n",
       "    <tr style=\"text-align: right;\">\n",
       "      <th></th>\n",
       "      <th>zero_count</th>\n",
       "      <th>zero_pct</th>\n",
       "    </tr>\n",
       "  </thead>\n",
       "  <tbody>\n",
       "    <tr>\n",
       "      <th>Outcome</th>\n",
       "      <td>500</td>\n",
       "      <td>65.100</td>\n",
       "    </tr>\n",
       "    <tr>\n",
       "      <th>Insulin</th>\n",
       "      <td>374</td>\n",
       "      <td>48.700</td>\n",
       "    </tr>\n",
       "    <tr>\n",
       "      <th>SkinThickness</th>\n",
       "      <td>227</td>\n",
       "      <td>29.560</td>\n",
       "    </tr>\n",
       "    <tr>\n",
       "      <th>Pregnancies</th>\n",
       "      <td>111</td>\n",
       "      <td>14.450</td>\n",
       "    </tr>\n",
       "    <tr>\n",
       "      <th>BloodPressure</th>\n",
       "      <td>35</td>\n",
       "      <td>4.560</td>\n",
       "    </tr>\n",
       "    <tr>\n",
       "      <th>BMI</th>\n",
       "      <td>11</td>\n",
       "      <td>1.430</td>\n",
       "    </tr>\n",
       "    <tr>\n",
       "      <th>Glucose</th>\n",
       "      <td>5</td>\n",
       "      <td>0.650</td>\n",
       "    </tr>\n",
       "    <tr>\n",
       "      <th>DiabetesPedigreeFunction</th>\n",
       "      <td>0</td>\n",
       "      <td>0.000</td>\n",
       "    </tr>\n",
       "    <tr>\n",
       "      <th>Age</th>\n",
       "      <td>0</td>\n",
       "      <td>0.000</td>\n",
       "    </tr>\n",
       "  </tbody>\n",
       "</table>\n",
       "</div>"
      ]
     },
     "execution_count": 21,
     "metadata": {},
     "output_type": "execute_result"
    }
   ],
   "execution_count": 21
  },
  {
   "metadata": {},
   "cell_type": "markdown",
   "source": [
    "### Решение по скрытым пропускам\n",
    "Нули в признаках `Glucose`, `BloodPressure`, `SkinThickness`, `Insulin`, `BMI` физиологически невозможны → интерпретируем как пропуски и заменяем на NaN.  "
   ],
   "id": "9c2d99f75a0cd0e8"
  },
  {
   "metadata": {
    "ExecuteTime": {
     "end_time": "2025-10-01T08:03:07.203993Z",
     "start_time": "2025-10-01T08:03:07.188937Z"
    }
   },
   "cell_type": "code",
   "source": [
    "cols_with_hidden_missing = [\"Glucose\", \"BloodPressure\", \"SkinThickness\", \"Insulin\", \"BMI\"]\n",
    "\n",
    "for col in cols_with_hidden_missing:\n",
    "    df[col] = df[col].replace(0, np.nan)\n",
    "\n",
    "print(\"Скрытые пропуски помечены (0 -> NaN) в колонках:\", cols_with_hidden_missing)\n",
    "df[cols_with_hidden_missing].head()"
   ],
   "id": "10de12f94e98dafb",
   "outputs": [
    {
     "name": "stdout",
     "output_type": "stream",
     "text": [
      "Скрытые пропуски помечены (0 -> NaN) в колонках: ['Glucose', 'BloodPressure', 'SkinThickness', 'Insulin', 'BMI']\n"
     ]
    },
    {
     "data": {
      "text/plain": [
       "   Glucose  BloodPressure  SkinThickness  Insulin    BMI\n",
       "0  148.000         72.000         35.000      NaN 33.600\n",
       "1   85.000         66.000         29.000      NaN 26.600\n",
       "2  183.000         64.000            NaN      NaN 23.300\n",
       "3   89.000         66.000         23.000   94.000 28.100\n",
       "4  137.000         40.000         35.000  168.000 43.100"
      ],
      "text/html": [
       "<div>\n",
       "<style scoped>\n",
       "    .dataframe tbody tr th:only-of-type {\n",
       "        vertical-align: middle;\n",
       "    }\n",
       "\n",
       "    .dataframe tbody tr th {\n",
       "        vertical-align: top;\n",
       "    }\n",
       "\n",
       "    .dataframe thead th {\n",
       "        text-align: right;\n",
       "    }\n",
       "</style>\n",
       "<table border=\"1\" class=\"dataframe\">\n",
       "  <thead>\n",
       "    <tr style=\"text-align: right;\">\n",
       "      <th></th>\n",
       "      <th>Glucose</th>\n",
       "      <th>BloodPressure</th>\n",
       "      <th>SkinThickness</th>\n",
       "      <th>Insulin</th>\n",
       "      <th>BMI</th>\n",
       "    </tr>\n",
       "  </thead>\n",
       "  <tbody>\n",
       "    <tr>\n",
       "      <th>0</th>\n",
       "      <td>148.000</td>\n",
       "      <td>72.000</td>\n",
       "      <td>35.000</td>\n",
       "      <td>NaN</td>\n",
       "      <td>33.600</td>\n",
       "    </tr>\n",
       "    <tr>\n",
       "      <th>1</th>\n",
       "      <td>85.000</td>\n",
       "      <td>66.000</td>\n",
       "      <td>29.000</td>\n",
       "      <td>NaN</td>\n",
       "      <td>26.600</td>\n",
       "    </tr>\n",
       "    <tr>\n",
       "      <th>2</th>\n",
       "      <td>183.000</td>\n",
       "      <td>64.000</td>\n",
       "      <td>NaN</td>\n",
       "      <td>NaN</td>\n",
       "      <td>23.300</td>\n",
       "    </tr>\n",
       "    <tr>\n",
       "      <th>3</th>\n",
       "      <td>89.000</td>\n",
       "      <td>66.000</td>\n",
       "      <td>23.000</td>\n",
       "      <td>94.000</td>\n",
       "      <td>28.100</td>\n",
       "    </tr>\n",
       "    <tr>\n",
       "      <th>4</th>\n",
       "      <td>137.000</td>\n",
       "      <td>40.000</td>\n",
       "      <td>35.000</td>\n",
       "      <td>168.000</td>\n",
       "      <td>43.100</td>\n",
       "    </tr>\n",
       "  </tbody>\n",
       "</table>\n",
       "</div>"
      ]
     },
     "execution_count": 22,
     "metadata": {},
     "output_type": "execute_result"
    }
   ],
   "execution_count": 22
  },
  {
   "metadata": {
    "ExecuteTime": {
     "end_time": "2025-10-01T08:03:27.485874Z",
     "start_time": "2025-10-01T08:03:27.473322Z"
    }
   },
   "cell_type": "code",
   "source": [
    "missing_report = (\n",
    "    df.isna()\n",
    "      .sum()\n",
    "      .to_frame(\"missing_cnt\")\n",
    "      .assign(missing_pct=lambda x: (x[\"missing_cnt\"] / len(df) * 100).round(2))\n",
    "      .sort_values(\"missing_pct\", ascending=False)\n",
    ")\n",
    "missing_report"
   ],
   "id": "33616fb740e4a0c0",
   "outputs": [
    {
     "data": {
      "text/plain": [
       "                          missing_cnt  missing_pct\n",
       "Insulin                           374       48.700\n",
       "SkinThickness                     227       29.560\n",
       "BloodPressure                      35        4.560\n",
       "BMI                                11        1.430\n",
       "Glucose                             5        0.650\n",
       "Pregnancies                         0        0.000\n",
       "DiabetesPedigreeFunction            0        0.000\n",
       "Age                                 0        0.000\n",
       "Outcome                             0        0.000"
      ],
      "text/html": [
       "<div>\n",
       "<style scoped>\n",
       "    .dataframe tbody tr th:only-of-type {\n",
       "        vertical-align: middle;\n",
       "    }\n",
       "\n",
       "    .dataframe tbody tr th {\n",
       "        vertical-align: top;\n",
       "    }\n",
       "\n",
       "    .dataframe thead th {\n",
       "        text-align: right;\n",
       "    }\n",
       "</style>\n",
       "<table border=\"1\" class=\"dataframe\">\n",
       "  <thead>\n",
       "    <tr style=\"text-align: right;\">\n",
       "      <th></th>\n",
       "      <th>missing_cnt</th>\n",
       "      <th>missing_pct</th>\n",
       "    </tr>\n",
       "  </thead>\n",
       "  <tbody>\n",
       "    <tr>\n",
       "      <th>Insulin</th>\n",
       "      <td>374</td>\n",
       "      <td>48.700</td>\n",
       "    </tr>\n",
       "    <tr>\n",
       "      <th>SkinThickness</th>\n",
       "      <td>227</td>\n",
       "      <td>29.560</td>\n",
       "    </tr>\n",
       "    <tr>\n",
       "      <th>BloodPressure</th>\n",
       "      <td>35</td>\n",
       "      <td>4.560</td>\n",
       "    </tr>\n",
       "    <tr>\n",
       "      <th>BMI</th>\n",
       "      <td>11</td>\n",
       "      <td>1.430</td>\n",
       "    </tr>\n",
       "    <tr>\n",
       "      <th>Glucose</th>\n",
       "      <td>5</td>\n",
       "      <td>0.650</td>\n",
       "    </tr>\n",
       "    <tr>\n",
       "      <th>Pregnancies</th>\n",
       "      <td>0</td>\n",
       "      <td>0.000</td>\n",
       "    </tr>\n",
       "    <tr>\n",
       "      <th>DiabetesPedigreeFunction</th>\n",
       "      <td>0</td>\n",
       "      <td>0.000</td>\n",
       "    </tr>\n",
       "    <tr>\n",
       "      <th>Age</th>\n",
       "      <td>0</td>\n",
       "      <td>0.000</td>\n",
       "    </tr>\n",
       "    <tr>\n",
       "      <th>Outcome</th>\n",
       "      <td>0</td>\n",
       "      <td>0.000</td>\n",
       "    </tr>\n",
       "  </tbody>\n",
       "</table>\n",
       "</div>"
      ]
     },
     "execution_count": 23,
     "metadata": {},
     "output_type": "execute_result"
    }
   ],
   "execution_count": 23
  },
  {
   "metadata": {},
   "cell_type": "markdown",
   "source": [
    "### Комментарий по пропускам\n",
    "Наибольшая доля пропусков ожидаемо в `Insulin` и `SkinThickness`.  \n",
    "Не удаляем строки сейчас: следующему участнику понадобится распределение, а участнику по подготовке данных — стратегия иммутации (медиана / модель / отдельный флаг)."
   ],
   "id": "241389dc63650f59"
  },
  {
   "metadata": {
    "ExecuteTime": {
     "end_time": "2025-10-01T08:04:05.454278Z",
     "start_time": "2025-10-01T08:04:05.426469Z"
    }
   },
   "cell_type": "code",
   "source": [
    "def quality_report(data: pd.DataFrame, zero_as_missing_cols=None):\n",
    "    if zero_as_missing_cols is None:\n",
    "        zero_as_missing_cols = []\n",
    "    rows = []\n",
    "    n = len(data)\n",
    "    for col in data.columns:\n",
    "        # Нули считаем только там, где они допустимы\n",
    "        zero_cnt = (data[col] == 0).sum() if col not in zero_as_missing_cols else np.nan\n",
    "        miss_cnt = data[col].isna().sum()\n",
    "        rows.append({\n",
    "            \"column\": col,\n",
    "            \"dtype\": str(data[col].dtype),\n",
    "            \"n_unique\": data[col].nunique(dropna=True),\n",
    "            \"missing_cnt\": miss_cnt,\n",
    "            \"missing_pct\": round(miss_cnt / n * 100, 2),\n",
    "            \"zero_cnt\": zero_cnt,\n",
    "            \"zero_pct\": (round(zero_cnt / n * 100, 2) if not pd.isna(zero_cnt) else np.nan)\n",
    "        })\n",
    "    return pd.DataFrame(rows).sort_values(\"missing_pct\", ascending=False)\n",
    "\n",
    "quality_report(df, cols_with_hidden_missing)"
   ],
   "id": "43d780f1dc031fff",
   "outputs": [
    {
     "data": {
      "text/plain": [
       "                     column    dtype  n_unique  missing_cnt  missing_pct  \\\n",
       "4                   Insulin  float64       185          374       48.700   \n",
       "3             SkinThickness  float64        50          227       29.560   \n",
       "2             BloodPressure  float64        46           35        4.560   \n",
       "5                       BMI  float64       247           11        1.430   \n",
       "1                   Glucose  float64       135            5        0.650   \n",
       "0               Pregnancies    int64        17            0        0.000   \n",
       "6  DiabetesPedigreeFunction  float64       517            0        0.000   \n",
       "7                       Age    int64        52            0        0.000   \n",
       "8                   Outcome    int64         2            0        0.000   \n",
       "\n",
       "   zero_cnt  zero_pct  \n",
       "4       NaN       NaN  \n",
       "3       NaN       NaN  \n",
       "2       NaN       NaN  \n",
       "5       NaN       NaN  \n",
       "1       NaN       NaN  \n",
       "0   111.000    14.450  \n",
       "6     0.000     0.000  \n",
       "7     0.000     0.000  \n",
       "8   500.000    65.100  "
      ],
      "text/html": [
       "<div>\n",
       "<style scoped>\n",
       "    .dataframe tbody tr th:only-of-type {\n",
       "        vertical-align: middle;\n",
       "    }\n",
       "\n",
       "    .dataframe tbody tr th {\n",
       "        vertical-align: top;\n",
       "    }\n",
       "\n",
       "    .dataframe thead th {\n",
       "        text-align: right;\n",
       "    }\n",
       "</style>\n",
       "<table border=\"1\" class=\"dataframe\">\n",
       "  <thead>\n",
       "    <tr style=\"text-align: right;\">\n",
       "      <th></th>\n",
       "      <th>column</th>\n",
       "      <th>dtype</th>\n",
       "      <th>n_unique</th>\n",
       "      <th>missing_cnt</th>\n",
       "      <th>missing_pct</th>\n",
       "      <th>zero_cnt</th>\n",
       "      <th>zero_pct</th>\n",
       "    </tr>\n",
       "  </thead>\n",
       "  <tbody>\n",
       "    <tr>\n",
       "      <th>4</th>\n",
       "      <td>Insulin</td>\n",
       "      <td>float64</td>\n",
       "      <td>185</td>\n",
       "      <td>374</td>\n",
       "      <td>48.700</td>\n",
       "      <td>NaN</td>\n",
       "      <td>NaN</td>\n",
       "    </tr>\n",
       "    <tr>\n",
       "      <th>3</th>\n",
       "      <td>SkinThickness</td>\n",
       "      <td>float64</td>\n",
       "      <td>50</td>\n",
       "      <td>227</td>\n",
       "      <td>29.560</td>\n",
       "      <td>NaN</td>\n",
       "      <td>NaN</td>\n",
       "    </tr>\n",
       "    <tr>\n",
       "      <th>2</th>\n",
       "      <td>BloodPressure</td>\n",
       "      <td>float64</td>\n",
       "      <td>46</td>\n",
       "      <td>35</td>\n",
       "      <td>4.560</td>\n",
       "      <td>NaN</td>\n",
       "      <td>NaN</td>\n",
       "    </tr>\n",
       "    <tr>\n",
       "      <th>5</th>\n",
       "      <td>BMI</td>\n",
       "      <td>float64</td>\n",
       "      <td>247</td>\n",
       "      <td>11</td>\n",
       "      <td>1.430</td>\n",
       "      <td>NaN</td>\n",
       "      <td>NaN</td>\n",
       "    </tr>\n",
       "    <tr>\n",
       "      <th>1</th>\n",
       "      <td>Glucose</td>\n",
       "      <td>float64</td>\n",
       "      <td>135</td>\n",
       "      <td>5</td>\n",
       "      <td>0.650</td>\n",
       "      <td>NaN</td>\n",
       "      <td>NaN</td>\n",
       "    </tr>\n",
       "    <tr>\n",
       "      <th>0</th>\n",
       "      <td>Pregnancies</td>\n",
       "      <td>int64</td>\n",
       "      <td>17</td>\n",
       "      <td>0</td>\n",
       "      <td>0.000</td>\n",
       "      <td>111.000</td>\n",
       "      <td>14.450</td>\n",
       "    </tr>\n",
       "    <tr>\n",
       "      <th>6</th>\n",
       "      <td>DiabetesPedigreeFunction</td>\n",
       "      <td>float64</td>\n",
       "      <td>517</td>\n",
       "      <td>0</td>\n",
       "      <td>0.000</td>\n",
       "      <td>0.000</td>\n",
       "      <td>0.000</td>\n",
       "    </tr>\n",
       "    <tr>\n",
       "      <th>7</th>\n",
       "      <td>Age</td>\n",
       "      <td>int64</td>\n",
       "      <td>52</td>\n",
       "      <td>0</td>\n",
       "      <td>0.000</td>\n",
       "      <td>0.000</td>\n",
       "      <td>0.000</td>\n",
       "    </tr>\n",
       "    <tr>\n",
       "      <th>8</th>\n",
       "      <td>Outcome</td>\n",
       "      <td>int64</td>\n",
       "      <td>2</td>\n",
       "      <td>0</td>\n",
       "      <td>0.000</td>\n",
       "      <td>500.000</td>\n",
       "      <td>65.100</td>\n",
       "    </tr>\n",
       "  </tbody>\n",
       "</table>\n",
       "</div>"
      ]
     },
     "execution_count": 24,
     "metadata": {},
     "output_type": "execute_result"
    }
   ],
   "execution_count": 24
  },
  {
   "metadata": {
    "ExecuteTime": {
     "end_time": "2025-10-01T08:04:17.928926Z",
     "start_time": "2025-10-01T08:04:17.911970Z"
    }
   },
   "cell_type": "code",
   "source": [
    "dup_cnt = df.duplicated().sum()\n",
    "print(\"Количество полных дубликатов:\", dup_cnt)\n",
    "if dup_cnt > 0:\n",
    "    display(df[df.duplicated(keep=False)].head())"
   ],
   "id": "52fad2bd07c66516",
   "outputs": [
    {
     "name": "stdout",
     "output_type": "stream",
     "text": [
      "Количество полных дубликатов: 0\n"
     ]
    }
   ],
   "execution_count": 25
  },
  {
   "metadata": {},
   "cell_type": "markdown",
   "source": [
    "### Решение по дубликатам\n",
    "- Дубликаты не обнаружены — ничего не делаем.  \n"
   ],
   "id": "f45cd49922f21d6a"
  },
  {
   "metadata": {
    "ExecuteTime": {
     "end_time": "2025-10-01T08:04:54.949845Z",
     "start_time": "2025-10-01T08:04:53.258620Z"
    }
   },
   "cell_type": "code",
   "source": [
    "numeric_features = [c for c in df.columns if c != \"Outcome\"]\n",
    "\n",
    "for col in numeric_features:\n",
    "    plt.figure(figsize=(4, 2.6))\n",
    "    sns.histplot(df[col], kde=True)\n",
    "    plt.title(f\"Распределение {col}\")\n",
    "    plt.tight_layout()\n",
    "    plt.show()"
   ],
   "id": "dd917f6a4ac465ea",
   "outputs": [
    {
     "data": {
      "text/plain": [
       "<Figure size 400x260 with 1 Axes>"
      ],
      "image/png": "[encoded data removed]"
     },
     "metadata": {},
     "output_type": "display_data"
    },
    {
     "data": {
      "text/plain": [
       "<Figure size 400x260 with 1 Axes>"
      ],
      "image/png": "[encoded data removed]"
     },
     "metadata": {},
     "output_type": "display_data"
    },
    {
     "data": {
      "text/plain": [
       "<Figure size 400x260 with 1 Axes>"
      ],
      "image/png": "[encoded data removed]"
     },
     "metadata": {},
     "output_type": "display_data"
    },
    {
     "data": {
      "text/plain": [
       "<Figure size 400x260 with 1 Axes>"
      ],
      "image/png": "[encoded data removed]"
     },
     "metadata": {},
     "output_type": "display_data"
    },
    {
     "data": {
      "text/plain": [
       "<Figure size 400x260 with 1 Axes>"
      ],
      "image/png": "[encoded data removed]"
     },
     "metadata": {},
     "output_type": "display_data"
    },
    {
     "data": {
      "text/plain": [
       "<Figure size 400x260 with 1 Axes>"
      ],
      "image/png": "[encoded data removed]"
     },
     "metadata": {},
     "output_type": "display_data"
    },
    {
     "data": {
      "text/plain": [
       "<Figure size 400x260 with 1 Axes>"
      ],
      "image/png": "[encoded data removed]"
     },
     "metadata": {},
     "output_type": "display_data"
    },
    {
     "data": {
      "text/plain": [
       "<Figure size 400x260 with 1 Axes>"
      ],
      "image/png": "[encoded data removed]"
     },
     "metadata": {},
     "output_type": "display_data"
    }
   ],
   "execution_count": 26
  },
  {
   "metadata": {
    "ExecuteTime": {
     "end_time": "2025-10-01T08:05:22.158449Z",
     "start_time": "2025-10-01T08:05:22.138963Z"
    }
   },
   "cell_type": "code",
   "source": [
    "out_counts = df['Outcome'].value_counts()\n",
    "out_pct = (out_counts / len(df) * 100).round(2)\n",
    "print(\"Распределение классов:\")\n",
    "display(pd.DataFrame({\"count\": out_counts, \"pct\": out_pct}))"
   ],
   "id": "a34bdc44ec27f78c",
   "outputs": [
    {
     "name": "stdout",
     "output_type": "stream",
     "text": [
      "Распределение классов:\n"
     ]
    },
    {
     "data": {
      "text/plain": [
       "         count    pct\n",
       "Outcome              \n",
       "0          500 65.100\n",
       "1          268 34.900"
      ],
      "text/html": [
       "<div>\n",
       "<style scoped>\n",
       "    .dataframe tbody tr th:only-of-type {\n",
       "        vertical-align: middle;\n",
       "    }\n",
       "\n",
       "    .dataframe tbody tr th {\n",
       "        vertical-align: top;\n",
       "    }\n",
       "\n",
       "    .dataframe thead th {\n",
       "        text-align: right;\n",
       "    }\n",
       "</style>\n",
       "<table border=\"1\" class=\"dataframe\">\n",
       "  <thead>\n",
       "    <tr style=\"text-align: right;\">\n",
       "      <th></th>\n",
       "      <th>count</th>\n",
       "      <th>pct</th>\n",
       "    </tr>\n",
       "    <tr>\n",
       "      <th>Outcome</th>\n",
       "      <th></th>\n",
       "      <th></th>\n",
       "    </tr>\n",
       "  </thead>\n",
       "  <tbody>\n",
       "    <tr>\n",
       "      <th>0</th>\n",
       "      <td>500</td>\n",
       "      <td>65.100</td>\n",
       "    </tr>\n",
       "    <tr>\n",
       "      <th>1</th>\n",
       "      <td>268</td>\n",
       "      <td>34.900</td>\n",
       "    </tr>\n",
       "  </tbody>\n",
       "</table>\n",
       "</div>"
      ]
     },
     "metadata": {},
     "output_type": "display_data"
    }
   ],
   "execution_count": 27
  },
  {
   "metadata": {},
   "cell_type": "markdown",
   "source": [
    "### Наблюдения (предварительно)\n",
    "- Пропуски созданы (0→NaN) в 5 ключевых признаках — значимая доля в `Insulin`, `SkinThickness`.  \n",
    "- `Outcome` класс: \"0\" - 65% / \"1\" - 35%. Небольшой дисбаланс допустим — уточнит участник 2.  \n",
    "- Распределения скошены (Insulin, BMI, Glucose) — возможна лог-трансформация или робастное масштабирование (этап участника 4).  "
   ],
   "id": "4f7273a66d7f8f11"
  },
  {
   "metadata": {
    "ExecuteTime": {
     "end_time": "2025-10-01T08:13:11.970370Z",
     "start_time": "2025-10-01T08:13:11.949858Z"
    }
   },
   "cell_type": "code",
   "source": [
    "OUTPUT_FILE = \"./data/diabetes_stage1.csv\"\n",
    "df.to_csv(OUTPUT_FILE, index=False)\n",
    "print(f\"Сохранён промежуточный файл: {OUTPUT_FILE}\")"
   ],
   "id": "8f13c0284312012d",
   "outputs": [
    {
     "name": "stdout",
     "output_type": "stream",
     "text": [
      "Сохранён промежуточный файл: ./data/diabetes_stage1.csv\n"
     ]
    }
   ],
   "execution_count": 32
  },
  {
   "metadata": {},
   "cell_type": "markdown",
   "source": [
    "## Резюме (Stage 1 готов)\n",
    "\n",
    "- Строк (после обработки): 768  \n",
    "- Признаков: 9  \n",
    "- Скрытые пропуски выявлены и помечены (0→NaN) в колонках: Glucose, BloodPressure, SkinThickness, Insulin, BMI.  \n",
    "- Наибольшая доля пропусков:\n",
    "  1) Insulin: 374 (48.70%)\n",
    "  2) SkinThickness: 227 (29.56%)\n",
    "  3) BloodPressure: 35 (4.56%)  \n",
    "- Дубликатов: 0  \n",
    "- Импутацию не выполняли — оставлено для этапа подготовки данных (участник 4).  \n",
    "- Промежуточный датасет сохранён: `./data/diabetes_stage1.csv`.  "
   ],
   "id": "8fadd3f9f77831de"
  },
  {
   "metadata": {},
   "cell_type": "code",
   "source": "",
   "id": "a164f64bde530554",
   "outputs": [],
   "execution_count": null
  },
  {
   "metadata": {},
   "cell_type": "code",
   "outputs": [],
   "execution_count": null,
   "source": "",
   "id": "ade332befffcc375"
  }
 ],
 "metadata": {
  "kernelspec": {
   "display_name": "Python 3",
   "language": "python",
   "name": "python3"
  },
  "language_info": {
   "codemirror_mode": {
    "name": "ipython",
    "version": 2
   },
   "file_extension": ".py",
   "mimetype": "text/x-python",
   "name": "python",
   "nbconvert_exporter": "python",
   "pygments_lexer": "ipython2",
   "version": "2.7.6"
  }
 },
 "nbformat": 4,
 "nbformat_minor": 5
}
